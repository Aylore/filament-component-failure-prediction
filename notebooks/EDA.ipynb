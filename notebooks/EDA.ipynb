{
 "cells": [
  {
   "cell_type": "code",
   "execution_count": 2,
   "metadata": {},
   "outputs": [],
   "source": [
    "import sys\n",
    "sys.path.append('../')  # Add the parent directory to the system path\n"
   ]
  },
  {
   "cell_type": "code",
   "execution_count": 3,
   "metadata": {},
   "outputs": [],
   "source": [
    "import pandas as pd\n",
    "import numpy as np\n",
    "import matplotlib.pyplot as plt\n",
    "\n",
    "from utils.preprocess import DataProcessor"
   ]
  },
  {
   "cell_type": "code",
   "execution_count": 4,
   "metadata": {},
   "outputs": [
    {
     "data": {
      "text/html": [
       "<div>\n",
       "<style scoped>\n",
       "    .dataframe tbody tr th:only-of-type {\n",
       "        vertical-align: middle;\n",
       "    }\n",
       "\n",
       "    .dataframe tbody tr th {\n",
       "        vertical-align: top;\n",
       "    }\n",
       "\n",
       "    .dataframe thead th {\n",
       "        text-align: right;\n",
       "    }\n",
       "</style>\n",
       "<table border=\"1\" class=\"dataframe\">\n",
       "  <thead>\n",
       "    <tr style=\"text-align: right;\">\n",
       "      <th></th>\n",
       "      <th>StringValue</th>\n",
       "      <th>NumberOfParameters</th>\n",
       "      <th>Service</th>\n",
       "      <th>TechnicalEventType</th>\n",
       "      <th>TechnicalID</th>\n",
       "      <th>Description</th>\n",
       "      <th>TimeStamp</th>\n",
       "      <th>ProcessName</th>\n",
       "      <th>MemoField</th>\n",
       "    </tr>\n",
       "  </thead>\n",
       "  <tbody>\n",
       "    <tr>\n",
       "      <th>0</th>\n",
       "      <td>Memo-field</td>\n",
       "      <td>NaN</td>\n",
       "      <td>None</td>\n",
       "      <td>None</td>\n",
       "      <td>NaN</td>\n",
       "      <td>None</td>\n",
       "      <td>None</td>\n",
       "      <td>None</td>\n",
       "      <td>None</td>\n",
       "    </tr>\n",
       "    <tr>\n",
       "      <th>1</th>\n",
       "      <td>None</td>\n",
       "      <td>232666.0</td>\n",
       "      <td>None</td>\n",
       "      <td>None</td>\n",
       "      <td>NaN</td>\n",
       "      <td>None</td>\n",
       "      <td>None</td>\n",
       "      <td>None</td>\n",
       "      <td>None</td>\n",
       "    </tr>\n",
       "  </tbody>\n",
       "</table>\n",
       "</div>"
      ],
      "text/plain": [
       "  StringValue  NumberOfParameters Service TechnicalEventType  TechnicalID  \\\n",
       "0  Memo-field                 NaN    None               None          NaN   \n",
       "1        None            232666.0    None               None          NaN   \n",
       "\n",
       "  Description TimeStamp ProcessName MemoField  \n",
       "0        None      None        None      None  \n",
       "1        None      None        None      None  "
      ]
     },
     "execution_count": 4,
     "metadata": {},
     "output_type": "execute_result"
    }
   ],
   "source": [
    "df = pd.read_xml(\"../data/MCC.XML\")\n",
    "df.head(2)"
   ]
  },
  {
   "cell_type": "code",
   "execution_count": 5,
   "metadata": {},
   "outputs": [
    {
     "name": "stdout",
     "output_type": "stream",
     "text": [
      "Extracting Data from Message Column.......\n"
     ]
    }
   ],
   "source": [
    "processor = DataProcessor()\n",
    "df_large , df_small =  processor.prep_data(df)"
   ]
  },
  {
   "cell_type": "code",
   "execution_count": 6,
   "metadata": {},
   "outputs": [
    {
     "data": {
      "text/html": [
       "<div>\n",
       "<style scoped>\n",
       "    .dataframe tbody tr th:only-of-type {\n",
       "        vertical-align: middle;\n",
       "    }\n",
       "\n",
       "    .dataframe tbody tr th {\n",
       "        vertical-align: top;\n",
       "    }\n",
       "\n",
       "    .dataframe thead th {\n",
       "        text-align: right;\n",
       "    }\n",
       "</style>\n",
       "<table border=\"1\" class=\"dataframe\">\n",
       "  <thead>\n",
       "    <tr style=\"text-align: right;\">\n",
       "      <th></th>\n",
       "      <th>TimeStamp</th>\n",
       "      <th>NewCFactor</th>\n",
       "      <th>N_Pulses</th>\n",
       "      <th>RunLength</th>\n",
       "      <th>RunLength_Cum</th>\n",
       "      <th>N_Pulses_Cum</th>\n",
       "    </tr>\n",
       "  </thead>\n",
       "  <tbody>\n",
       "    <tr>\n",
       "      <th>232568</th>\n",
       "      <td>2023-02-27 11:57:07</td>\n",
       "      <td>0.995550274848938</td>\n",
       "      <td>47.0</td>\n",
       "      <td>3.65319991111755</td>\n",
       "      <td>3.65319991111755</td>\n",
       "      <td>47.0</td>\n",
       "    </tr>\n",
       "    <tr>\n",
       "      <th>232465</th>\n",
       "      <td>2023-02-27 11:58:53</td>\n",
       "      <td>0.995550274848938</td>\n",
       "      <td>37.0</td>\n",
       "      <td>3.09990000724792</td>\n",
       "      <td>6.75309991836547</td>\n",
       "      <td>84.0</td>\n",
       "    </tr>\n",
       "    <tr>\n",
       "      <th>232292</th>\n",
       "      <td>2023-02-27 11:59:47</td>\n",
       "      <td>0.995551943778992</td>\n",
       "      <td>14.0</td>\n",
       "      <td>1.44430005550385</td>\n",
       "      <td>8.19739997386932</td>\n",
       "      <td>98.0</td>\n",
       "    </tr>\n",
       "    <tr>\n",
       "      <th>232233</th>\n",
       "      <td>2023-02-27 12:00:01</td>\n",
       "      <td>0.995553493499756</td>\n",
       "      <td>31.0</td>\n",
       "      <td>2.57520008087158</td>\n",
       "      <td>10.77260005474090</td>\n",
       "      <td>129.0</td>\n",
       "    </tr>\n",
       "    <tr>\n",
       "      <th>232099</th>\n",
       "      <td>2023-02-27 12:00:30</td>\n",
       "      <td>0.995553493499756</td>\n",
       "      <td>31.0</td>\n",
       "      <td>2.58080005645752</td>\n",
       "      <td>13.35340011119842</td>\n",
       "      <td>160.0</td>\n",
       "    </tr>\n",
       "  </tbody>\n",
       "</table>\n",
       "</div>"
      ],
      "text/plain": [
       "                 TimeStamp         NewCFactor  N_Pulses         RunLength  \\\n",
       "232568 2023-02-27 11:57:07  0.995550274848938      47.0  3.65319991111755   \n",
       "232465 2023-02-27 11:58:53  0.995550274848938      37.0  3.09990000724792   \n",
       "232292 2023-02-27 11:59:47  0.995551943778992      14.0  1.44430005550385   \n",
       "232233 2023-02-27 12:00:01  0.995553493499756      31.0  2.57520008087158   \n",
       "232099 2023-02-27 12:00:30  0.995553493499756      31.0  2.58080005645752   \n",
       "\n",
       "            RunLength_Cum  N_Pulses_Cum  \n",
       "232568   3.65319991111755          47.0  \n",
       "232465   6.75309991836547          84.0  \n",
       "232292   8.19739997386932          98.0  \n",
       "232233  10.77260005474090         129.0  \n",
       "232099  13.35340011119842         160.0  "
      ]
     },
     "execution_count": 6,
     "metadata": {},
     "output_type": "execute_result"
    }
   ],
   "source": [
    "df_large.head()"
   ]
  },
  {
   "cell_type": "code",
   "execution_count": 7,
   "metadata": {},
   "outputs": [
    {
     "data": {
      "text/plain": [
       "<Axes: >"
      ]
     },
     "execution_count": 7,
     "metadata": {},
     "output_type": "execute_result"
    },
    {
     "data": {
      "image/png": "[encoded data removed]",
      "text/plain": [
       "<Figure size 640x480 with 1 Axes>"
      ]
     },
     "metadata": {},
     "output_type": "display_data"
    }
   ],
   "source": [
    "df_large.NewCFactor.plot()"
   ]
  },
  {
   "cell_type": "code",
   "execution_count": 49,
   "metadata": {},
   "outputs": [
    {
     "data": {
      "text/html": [
       "<div>\n",
       "<style scoped>\n",
       "    .dataframe tbody tr th:only-of-type {\n",
       "        vertical-align: middle;\n",
       "    }\n",
       "\n",
       "    .dataframe tbody tr th {\n",
       "        vertical-align: top;\n",
       "    }\n",
       "\n",
       "    .dataframe thead th {\n",
       "        text-align: right;\n",
       "    }\n",
       "</style>\n",
       "<table border=\"1\" class=\"dataframe\">\n",
       "  <thead>\n",
       "    <tr style=\"text-align: right;\">\n",
       "      <th></th>\n",
       "      <th>TimeStamp</th>\n",
       "      <th>NewCFactor</th>\n",
       "      <th>N_Pulses</th>\n",
       "      <th>RunLength</th>\n",
       "      <th>RunLength_Cum</th>\n",
       "      <th>N_Pulses_Cum</th>\n",
       "    </tr>\n",
       "  </thead>\n",
       "  <tbody>\n",
       "    <tr>\n",
       "      <th>232568</th>\n",
       "      <td>2023-02-27 11:57:07</td>\n",
       "      <td>0.995550274848938</td>\n",
       "      <td>47.0</td>\n",
       "      <td>3.65319991111755</td>\n",
       "      <td>3.653199911117550</td>\n",
       "      <td>47.0</td>\n",
       "    </tr>\n",
       "    <tr>\n",
       "      <th>232465</th>\n",
       "      <td>2023-02-27 11:58:53</td>\n",
       "      <td>0.995550274848938</td>\n",
       "      <td>37.0</td>\n",
       "      <td>3.09990000724792</td>\n",
       "      <td>6.753099918365470</td>\n",
       "      <td>84.0</td>\n",
       "    </tr>\n",
       "    <tr>\n",
       "      <th>232292</th>\n",
       "      <td>2023-02-27 11:59:47</td>\n",
       "      <td>0.995551943778992</td>\n",
       "      <td>14.0</td>\n",
       "      <td>1.44430005550385</td>\n",
       "      <td>8.197399973869320</td>\n",
       "      <td>98.0</td>\n",
       "    </tr>\n",
       "    <tr>\n",
       "      <th>232233</th>\n",
       "      <td>2023-02-27 12:00:01</td>\n",
       "      <td>0.995553493499756</td>\n",
       "      <td>31.0</td>\n",
       "      <td>2.57520008087158</td>\n",
       "      <td>10.772600054740900</td>\n",
       "      <td>129.0</td>\n",
       "    </tr>\n",
       "    <tr>\n",
       "      <th>232099</th>\n",
       "      <td>2023-02-27 12:00:30</td>\n",
       "      <td>0.995553493499756</td>\n",
       "      <td>31.0</td>\n",
       "      <td>2.58080005645752</td>\n",
       "      <td>13.353400111198420</td>\n",
       "      <td>160.0</td>\n",
       "    </tr>\n",
       "    <tr>\n",
       "      <th>...</th>\n",
       "      <td>...</td>\n",
       "      <td>...</td>\n",
       "      <td>...</td>\n",
       "      <td>...</td>\n",
       "      <td>...</td>\n",
       "      <td>...</td>\n",
       "    </tr>\n",
       "    <tr>\n",
       "      <th>1080</th>\n",
       "      <td>2023-03-18 14:14:18</td>\n",
       "      <td>0.994879364967346</td>\n",
       "      <td>47.0</td>\n",
       "      <td>3.83660006523132</td>\n",
       "      <td>12804.969230741260617</td>\n",
       "      <td>80212.0</td>\n",
       "    </tr>\n",
       "    <tr>\n",
       "      <th>1039</th>\n",
       "      <td>2023-03-18 14:15:17</td>\n",
       "      <td>0.994879364967346</td>\n",
       "      <td>48.0</td>\n",
       "      <td>3.91549992561340</td>\n",
       "      <td>12808.884730666874020</td>\n",
       "      <td>80260.0</td>\n",
       "    </tr>\n",
       "    <tr>\n",
       "      <th>974</th>\n",
       "      <td>2023-03-18 14:16:09</td>\n",
       "      <td>0.994879364967346</td>\n",
       "      <td>6.0</td>\n",
       "      <td>1.11710000038147</td>\n",
       "      <td>12810.001830667255490</td>\n",
       "      <td>80266.0</td>\n",
       "    </tr>\n",
       "    <tr>\n",
       "      <th>911</th>\n",
       "      <td>2023-03-18 14:16:35</td>\n",
       "      <td>0.994879364967346</td>\n",
       "      <td>55.0</td>\n",
       "      <td>4.40159988403320</td>\n",
       "      <td>12814.403430551288693</td>\n",
       "      <td>80321.0</td>\n",
       "    </tr>\n",
       "    <tr>\n",
       "      <th>845</th>\n",
       "      <td>2023-03-18 14:17:30</td>\n",
       "      <td>0.994879364967346</td>\n",
       "      <td>31.0</td>\n",
       "      <td>2.79830002784729</td>\n",
       "      <td>12817.201730579135983</td>\n",
       "      <td>80352.0</td>\n",
       "    </tr>\n",
       "  </tbody>\n",
       "</table>\n",
       "<p>1643 rows × 6 columns</p>\n",
       "</div>"
      ],
      "text/plain": [
       "                 TimeStamp         NewCFactor  N_Pulses         RunLength  \\\n",
       "232568 2023-02-27 11:57:07  0.995550274848938      47.0  3.65319991111755   \n",
       "232465 2023-02-27 11:58:53  0.995550274848938      37.0  3.09990000724792   \n",
       "232292 2023-02-27 11:59:47  0.995551943778992      14.0  1.44430005550385   \n",
       "232233 2023-02-27 12:00:01  0.995553493499756      31.0  2.57520008087158   \n",
       "232099 2023-02-27 12:00:30  0.995553493499756      31.0  2.58080005645752   \n",
       "...                    ...                ...       ...               ...   \n",
       "1080   2023-03-18 14:14:18  0.994879364967346      47.0  3.83660006523132   \n",
       "1039   2023-03-18 14:15:17  0.994879364967346      48.0  3.91549992561340   \n",
       "974    2023-03-18 14:16:09  0.994879364967346       6.0  1.11710000038147   \n",
       "911    2023-03-18 14:16:35  0.994879364967346      55.0  4.40159988403320   \n",
       "845    2023-03-18 14:17:30  0.994879364967346      31.0  2.79830002784729   \n",
       "\n",
       "                RunLength_Cum  N_Pulses_Cum  \n",
       "232568      3.653199911117550          47.0  \n",
       "232465      6.753099918365470          84.0  \n",
       "232292      8.197399973869320          98.0  \n",
       "232233     10.772600054740900         129.0  \n",
       "232099     13.353400111198420         160.0  \n",
       "...                       ...           ...  \n",
       "1080    12804.969230741260617       80212.0  \n",
       "1039    12808.884730666874020       80260.0  \n",
       "974     12810.001830667255490       80266.0  \n",
       "911     12814.403430551288693       80321.0  \n",
       "845     12817.201730579135983       80352.0  \n",
       "\n",
       "[1643 rows x 6 columns]"
      ]
     },
     "execution_count": 49,
     "metadata": {},
     "output_type": "execute_result"
    }
   ],
   "source": [
    "df_large.sort_values(\"TimeStamp\" ,ascending=True)#.NewCFactor.plot()"
   ]
  },
  {
   "cell_type": "code",
   "execution_count": 52,
   "metadata": {},
   "outputs": [
    {
     "data": {
      "text/plain": [
       "[<matplotlib.lines.Line2D at 0x7fce81f377f0>]"
      ]
     },
     "execution_count": 52,
     "metadata": {},
     "output_type": "execute_result"
    },
    {
     "data": {
      "image/png": "[encoded data removed]",
      "text/plain": [
       "<Figure size 640x480 with 1 Axes>"
      ]
     },
     "metadata": {},
     "output_type": "display_data"
    }
   ],
   "source": [
    "plt.plot(df_large.sort_values(\"TimeStamp\" ,ascending=True).NewCFactor.values)"
   ]
  },
  {
   "cell_type": "code",
   "execution_count": 51,
   "metadata": {},
   "outputs": [
    {
     "data": {
      "text/plain": [
       "[<matplotlib.lines.Line2D at 0x7fce804159c0>]"
      ]
     },
     "execution_count": 51,
     "metadata": {},
     "output_type": "execute_result"
    },
    {
     "data": {
      "image/png": "[encoded data removed]",
      "text/plain": [
       "<Figure size 640x480 with 1 Axes>"
      ]
     },
     "metadata": {},
     "output_type": "display_data"
    }
   ],
   "source": [
    "plt.plot([9,5,4,8])#[1,2,5,4,8])"
   ]
  },
  {
   "cell_type": "code",
   "execution_count": null,
   "metadata": {},
   "outputs": [],
   "source": []
  }
 ],
 "metadata": {
  "kernelspec": {
   "display_name": "grad",
   "language": "python",
   "name": "python3"
  },
  "language_info": {
   "codemirror_mode": {
    "name": "ipython",
    "version": 3
   },
   "file_extension": ".py",
   "mimetype": "text/x-python",
   "name": "python",
   "nbconvert_exporter": "python",
   "pygments_lexer": "ipython3",
   "version": "3.10.11"
  },
  "orig_nbformat": 4
 },
 "nbformat": 4,
 "nbformat_minor": 2
}
